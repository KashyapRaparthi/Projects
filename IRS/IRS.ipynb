{
 "cells": [
  {
   "cell_type": "markdown",
   "metadata": {},
   "source": [
    "## Stage-1 : Single IRS component on ground between Transmitter & Receiver"
   ]
  },
  {
   "cell_type": "code",
   "execution_count": 5,
   "metadata": {},
   "outputs": [
    {
     "name": "stdout",
     "output_type": "stream",
     "text": [
      "1 2 3 "
     ]
    }
   ],
   "source": [
    "import time\n",
    "for i in [1,2,3]:\n",
    "    time.sleep(1)\n",
    "    print(i, end=\" \")\n",
    "    "
   ]
  },
  {
   "cell_type": "code",
   "execution_count": 10,
   "metadata": {},
   "outputs": [
    {
     "name": "stdout",
     "output_type": "stream",
     "text": [
      "Total Distance travelled by reflected wave : [[19.27762343]]\n",
      "Attenuation Factor & Phase difference(degree) of received signal are 1.641382162657347e-06 & [315.54777027] respectively\n",
      "Attenuation Factor from derived formula : [1.64138216e-06]\n",
      "Phase Difference(degree) from derived formula : [315.54777027]\n"
     ]
    }
   ],
   "source": [
    "import numpy as np\n",
    "import matplotlib.pyplot as plt\n",
    "\n",
    "class Error(Exception):     #Custom Error Class\n",
    "    pass\n",
    "class Invalid_Input(Error):      #Custom error for handling invalid input\n",
    "    pass\n",
    "\n",
    "global Lambda,R\n",
    "global h_t,h_r \n",
    "global D,hd,l  \n",
    "\n",
    "#Test data below\n",
    "# D = 12      #Seperation between Tx & Rx\n",
    "# h_t=10      \n",
    "# h_r=5\n",
    "# hd = h_t - h_r\n",
    "# l=np.sqrt((hd**2)+(D**2))       # LOS Path length\n",
    "# # print(l)\n",
    "# c= 3*(10**8)\n",
    "# f= 2.4*(10**9)\n",
    "# Lambda=c/f\n",
    "# pos=np.array([7]) #Position of IRS Element\n",
    "\n",
    "Flag=0\n",
    "def Exception_Checker(List,Variable):       #Raises Custom exceptions for inavlid inputs\n",
    "    global Flag\n",
    "    try:\n",
    "        if  Variable<=List[1] and Variable>=List[0]:\n",
    "            pass\n",
    "        else:\n",
    "            Flag=4\n",
    "            raise Invalid_Input\n",
    "            \n",
    "    except Invalid_Input:\n",
    "        print(\"Enter the value in specified range\")\n",
    "    \n",
    "        \n",
    "def Quit(Flag):     #Function to stop execution when invalid inputs are given\n",
    "    if Flag==4:\n",
    "        exit()\n",
    "\n",
    "# Inputs for various parameters        \n",
    "try:\n",
    "    D=float(input(\"Enter the Distance between Tx & Rx Antenna (between 5m - 50m) : \"))\n",
    "    Exception_Checker([5,50],D)\n",
    "    Quit(Flag)\n",
    "    \n",
    "    h_t=float(input(\"Enter the height of Tx Antenna (between 8m - 12m) : \"))\n",
    "    Exception_Checker([8,12],h_t)\n",
    "    Quit(Flag)\n",
    "\n",
    "    h_r=float(input(\"Enter the height of Rx Antenna (between 3m - 8m) : \"))\n",
    "    Exception_Checker([3,8],h_r)\n",
    "    Quit(Flag)\n",
    "\n",
    "    f=float(input(\"Enter the frequency of signal (between 1GHz - 5Ghz) : \"))\n",
    "    Exception_Checker([1,5],f)\n",
    "    Quit(Flag)\n",
    "\n",
    "    pos=float(input(f\"Enter the position of IRS (between {D/4} - {3*D/4}) : \"))\n",
    "    Exception_Checker([D/4,3*D/4],pos)\n",
    "    Quit(Flag)\n",
    "\n",
    "except ValueError:\n",
    "    Flag=4\n",
    "    print(\"Enter only Integers in given range\")\n",
    "\n",
    "Quit(Flag)\n",
    "\n",
    "hd = abs(h_t - h_r)\n",
    "l=np.sqrt((hd**2)+(D**2))       # LOS Path length\n",
    "c= 3*(10**8)\n",
    "Lambda=c/(f*(10**9))      # Wavelength\n",
    "\n",
    "\n",
    "class IRS:\n",
    "\n",
    "    @staticmethod\n",
    "    def Distance(pos,h_t=10,h_r=5):             # Function takes Postion of IRS (pos) as input                                \n",
    "        r1=np.sqrt((pos**2)+(h_t**2))           # and returns the total distance traversed by wave(d)         \n",
    "        r2=np.sqrt(((D-pos)**2)+(h_r**2))        \n",
    "        d=r1+r2\n",
    "        return d\n",
    "    \n",
    "    def Gamma(pos):             #Reflection Coefficient for each IRS element\n",
    "        R=complex(np.cos((2*np.pi*(pos-l))/Lambda),np.sin((2*np.pi*(pos-l))/Lambda))\n",
    "        return abs(R)\n",
    "\n",
    "    @staticmethod\n",
    "    def AF_Phase(Distance):                                 # Analytical Method to find AF & Phase difference of received signal\n",
    "        a=(Lambda/(4*np.pi))*(1/l)*np.cos((2*np.pi*l)/Lambda)\n",
    "        b=(-1)*(Lambda/(4*np.pi))*(1/l)*np.sin((2*np.pi*l)/Lambda)\n",
    "        x=0\n",
    "        for i in range(len(Distance)):\n",
    "            M = (Lambda/(4*np.pi))*(IRS.Gamma(Distance[i])/Distance[i])\n",
    "            phase=((-2)*np.pi*(l))/Lambda\n",
    "            a += (M*np.cos(phase))\n",
    "            b += (M*np.sin(phase))\n",
    "            x += (2*np.pi*(Distance[i])/Lambda)\n",
    "                  \n",
    "        AF=(abs(complex(a,b)))**2\n",
    "        \n",
    "        Phase=x-((2*np.pi*l)/Lambda)\n",
    "        while(True):\n",
    "            if Phase <= -360:\n",
    "                Phase+=360\n",
    "            elif Phase >= 360:\n",
    "                Phase-=360\n",
    "            elif -360<=Phase and Phase<=360:\n",
    "                break\n",
    "\n",
    "        return AF,Phase\n",
    "\n",
    "    @staticmethod\n",
    "    def Attenuation_Factor(Distance):         # Attenuation Factor using Derived Formula\n",
    "        x=0\n",
    "        y=0\n",
    "        for i in range(len(Distance)):\n",
    "            x+=(1/Distance[i])\n",
    "            y+=Distance[i]\n",
    "        AF=((Lambda/(4*np.pi))**2)*(((1/l)+x)**2)\n",
    "        Phase=2*np.pi*(y-l)/Lambda\n",
    "\n",
    "        while(True):\n",
    "            if Phase <= -360:\n",
    "                Phase+=360\n",
    "            elif Phase >= 360:\n",
    "                Phase-=360\n",
    "            elif -360<=Phase and Phase<=360:\n",
    "                break\n",
    "        return AF,Phase\n",
    "\n",
    "           \n",
    "Stage1= IRS()              #object instantiation\n",
    "Distance=np.array([Stage1.Distance(pos)])\n",
    "AF,Phase=Stage1.AF_Phase(Distance)\n",
    "print(\"Total Distance travelled by reflected wave :\",Distance)\n",
    "print(f\"Attenuation Factor & Phase difference(degree) of received signal are {AF} & {Phase} respectively\")\n",
    "\n",
    "AF_Derived,Phase_Derived=Stage1.Attenuation_Factor(Distance)\n",
    "print(\"Attenuation Factor from derived formula :\",AF_Derived)\n",
    "print(\"Phase Difference(degree) from derived formula :\",Phase_Derived)\n",
    "\n"
   ]
  },
  {
   "cell_type": "markdown",
   "metadata": {},
   "source": [
    "## Attenuation v/s Phase of Reflection Coefficient "
   ]
  },
  {
   "cell_type": "code",
   "execution_count": 13,
   "metadata": {},
   "outputs": [
    {
     "data": {
      "image/png": "[encoded data removed]",
      "text/plain": [
       "<Figure size 432x288 with 1 Axes>"
      ]
     },
     "metadata": {
      "needs_background": "light"
     },
     "output_type": "display_data"
    }
   ],
   "source": [
    "#Using Test Data\n",
    "D = 12      #Seperation between Tx & Rx\n",
    "h_t=10      \n",
    "h_r=5\n",
    "hd = h_t - h_r\n",
    "l=np.sqrt((hd**2)+(D**2))       # LOS Path length\n",
    "c= 3*(10**8)\n",
    "f= 2.4*(10**9)\n",
    "Lambda=c/f\n",
    "Initial_Phase=10\n",
    "Final_Phase=1000\n",
    "Step_size=10\n",
    "Phase=np.arange(Initial_Phase,Final_Phase,Step_size)\n",
    "# print(Phase)\n",
    "AF=np.array([])\n",
    "for i in Phase:\n",
    "    d=((i*Lambda)/(2*np.pi))+l\n",
    "    AF=np.append(AF,((Lambda/(4*np.pi))**2)*((1/l)+(1/d)))\n",
    "plt.plot(Phase,AF)\n",
    "plt.xlabel(\"Phase of Reflection Coeff (Degree)\") \n",
    "plt.ylabel(\"Attenuation Factor\")\n",
    "plt.title(\"Attenuation v/s Phase of Reflection Coefficient \")\n",
    "plt.tight_layout(rect=[0,0,1.5,1.5])\n",
    "plt.show()   "
   ]
  },
  {
   "cell_type": "markdown",
   "metadata": {},
   "source": [
    "## Stage-2 : Multiple IRS component on ground between Transmitter & Receiver"
   ]
  },
  {
   "cell_type": "code",
   "execution_count": 3,
   "metadata": {},
   "outputs": [
    {
     "name": "stdout",
     "output_type": "stream",
     "text": [
      "Attenuation Factor & Phase difference(degree) of received signal are 0.0026417484747550536 & 230.40160872494744 respectively\n",
      "Attenuation Factor from derived formula : 0.0026417484747550553\n",
      "Phase Difference(degree) from derived formula : 230.4016087249911\n"
     ]
    }
   ],
   "source": [
    "pos=np.arange(D/4,3*D/4,0.06)       # Position of IRS components of 60mm length between D/4 distance from Tx & D/4 away from Rx\n",
    "Stage2= IRS()       #Object instantiation\n",
    "Distance=np.array([])\n",
    "with open('Positions_Stage2.csv',\"a\") as f: #Writing the traversed path onto a file\n",
    "    for i in pos:\n",
    "        x=Stage2.Distance(i)\n",
    "        Distance=np.append(Distance,x)\n",
    "        f.write(str(x))\n",
    "        f.write(\"\\n\")\n",
    "\n",
    "AF,Phase=Stage2.AF_Phase(Distance)\n",
    "print(f\"Attenuation Factor & Phase difference(degree) of received signal are {AF} & {Phase} respectively\")\n",
    "\n",
    "AF_Derived,Phase_Derived=Stage1.Attenuation_Factor(Distance)\n",
    "print(\"Attenuation Factor from derived formula :\",AF_Derived)\n",
    "print(\"Phase Difference(degree) from derived formula :\",Phase_Derived)\n",
    "\n"
   ]
  },
  {
   "cell_type": "markdown",
   "metadata": {},
   "source": [
    "## Stage-3 : Two walls containing Multiple IRS components\n"
   ]
  },
  {
   "cell_type": "code",
   "execution_count": 4,
   "metadata": {},
   "outputs": [
    {
     "name": "stdout",
     "output_type": "stream",
     "text": [
      "Attenuation Factor & Phase difference(degree) of received signal are 0.1351886010632874 & 151.49210320203565 respectively\n",
      "Attenuation Factor from derived formula : 0.13518860106328756\n",
      "Phase Difference(degree) from derived formula : 151.4921032008715\n"
     ]
    }
   ],
   "source": [
    "# Inputs for various parameters\n",
    "try:\n",
    "    D=float(input(\"Enter the Distance between Tx & Rx Antenna (between 5m - 50m) : \"))\n",
    "    Exception_Checker([5,50],D)\n",
    "    Quit(Flag)\n",
    "    \n",
    "    h_t1=float(input(\"Enter the Distance of Tx Antenna from wall 1 (between 2m - 20m) : \"))\n",
    "    Exception_Checker([2,20],h_t1)\n",
    "    Quit(Flag)\n",
    "\n",
    "    h_r1=float(input(\"Enter the Distance of Rx Antenna from wall 1 (between 2m - 20m) : \"))\n",
    "    Exception_Checker([2,20],h_r1)\n",
    "    Quit(Flag)\n",
    "\n",
    "    h_t2=float(input(\"Enter the Distance of Tx Antenna from wall 2 (between 2m - 20m) : \"))\n",
    "    Exception_Checker([2,20],h_t2)\n",
    "    Quit(Flag)\n",
    "\n",
    "    h_r2=float(input(\"Enter the Distance of Rx Antenna from wall 2 (between 2m - 20m) : \"))\n",
    "    Exception_Checker([2,20],h_r2)\n",
    "    Quit(Flag)\n",
    "\n",
    "    f=float(input(\"Enter the frequency of signal (between 1GHz - 5Ghz) : \"))\n",
    "    Exception_Checker([1,5],f)\n",
    "    Quit(Flag)\n",
    "\n",
    "except ValueError:\n",
    "    Flag=4\n",
    "    print(\"Enter only Integers in given range\")\n",
    "\n",
    "Quit(Flag)\n",
    "# h_t2=8\n",
    "# h_r2=6\n",
    "pos_Wall_1=np.arange(D/4,3*D/4,0.06)       # Postions of IRS components of 60mm length between D/4 distance from Tx & D/4 away from Rx on wall-1\n",
    "pos_Wall_2=np.arange(D/4,3*D/4,0.06)       # Postions of IRS components of 60mm length between D/4 distance from Tx & D/4 away from Rx on wall-2\n",
    "Stage3= IRS() #Object Instantiation\n",
    "\n",
    "Distance=np.array([])\n",
    "\n",
    "with open('Distance_Traversed_Stage3.csv',\"a\") as f:    #Storing the distance traversed by wave for each IRS component\n",
    "    for i in pos_Wall_1:\n",
    "        x=Stage3.Distance(i,h_t,h_r)\n",
    "        Distance=np.append(Distance,x)\n",
    "        f.write(str(x))\n",
    "        f.write(\"\\n\")\n",
    "    for i in pos_Wall_2:\n",
    "        x=Stage3.Distance(i,h_t2,h_r2)\n",
    "        Distance=np.append(Distance,x)\n",
    "        f.write(str(x))\n",
    "        f.write(\"\\n\")\n",
    "with open(\"Distance_Traversed_Stage3.csv\",\"r\") as f:\n",
    "    Data=f.read()\n",
    "    Data=Data.splitlines()\n",
    "\n",
    "D=np.array([])\n",
    "for i in Data:  #distance traversed by wave for each IRS component\n",
    "    D=np.append(D,float(i))\n",
    "\n",
    "# print(type(D))\n",
    "AF,Phase=Stage3.AF_Phase(D)\n",
    "print(f\"Attenuation Factor & Phase difference(degree) of received signal are {AF} & {Phase} respectively\")\n",
    "\n",
    "AF_Derived,Phase_Derived=Stage1.Attenuation_Factor(D)\n",
    "print(\"Attenuation Factor from derived formula :\",AF_Derived)\n",
    "print(\"Phase Difference(degree) from derived formula :\",Phase_Derived)\n",
    "\n"
   ]
  }
 ],
 "metadata": {
  "kernelspec": {
   "display_name": "Python 3.9.12 ('base')",
   "language": "python",
   "name": "python3"
  },
  "language_info": {
   "codemirror_mode": {
    "name": "ipython",
    "version": 3
   },
   "file_extension": ".py",
   "mimetype": "text/x-python",
   "name": "python",
   "nbconvert_exporter": "python",
   "pygments_lexer": "ipython3",
   "version": "3.9.12"
  },
  "orig_nbformat": 4,
  "vscode": {
   "interpreter": {
    "hash": "52d90d3cc821dd0beedd6e719dbdecc722c226b9d90ed1b663c34e1877f1142e"
   }
  }
 },
 "nbformat": 4,
 "nbformat_minor": 2
}
